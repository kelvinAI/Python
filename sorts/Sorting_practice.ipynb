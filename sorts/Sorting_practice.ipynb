{
 "cells": [
  {
   "cell_type": "code",
   "execution_count": 2,
   "metadata": {
    "collapsed": true
   },
   "outputs": [],
   "source": [
    "from IPython.core.interactiveshell import InteractiveShell\n",
    "InteractiveShell.ast_node_interactivity = 'all'"
   ]
  },
  {
   "cell_type": "code",
   "execution_count": 12,
   "metadata": {
    "collapsed": true
   },
   "outputs": [],
   "source": [
    "test_x = [15, 6, 1, 7, -3 , 9,  0 , 2,  4, -5 ]"
   ]
  },
  {
   "cell_type": "code",
   "execution_count": 14,
   "metadata": {
    "collapsed": false,
    "scrolled": true
   },
   "outputs": [
    {
     "name": "stdout",
     "output_type": "stream",
     "text": [
      "length of x 10 [15, 6, 1, 7, -3, 9, 0, 2, 4, -5]\n",
      "Swapped 15  and  6\n",
      "Swapped 15  and  1\n",
      "Swapped 15  and  7\n",
      "Swapped 15  and  -3\n",
      "Swapped 15  and  9\n",
      "Swapped 15  and  0\n",
      "Swapped 15  and  2\n",
      "Swapped 15  and  4\n",
      "Swapped 15  and  -5\n",
      "i 9 th pass: [6, 1, 7, -3, 9, 0, 2, 4, -5, 15]\n",
      "Swapped 6  and  1\n",
      "Swapped 7  and  -3\n",
      "Swapped 9  and  0\n",
      "Swapped 9  and  2\n",
      "Swapped 9  and  4\n",
      "Swapped 9  and  -5\n",
      "i 8 th pass: [1, 6, -3, 7, 0, 2, 4, -5, 9, 15]\n",
      "Swapped 6  and  -3\n",
      "Swapped 7  and  0\n",
      "Swapped 7  and  2\n",
      "Swapped 7  and  4\n",
      "Swapped 7  and  -5\n",
      "i 7 th pass: [1, -3, 6, 0, 2, 4, -5, 7, 9, 15]\n",
      "Swapped 1  and  -3\n",
      "Swapped 6  and  0\n",
      "Swapped 6  and  2\n",
      "Swapped 6  and  4\n",
      "Swapped 6  and  -5\n",
      "i 6 th pass: [-3, 1, 0, 2, 4, -5, 6, 7, 9, 15]\n",
      "Swapped 1  and  0\n",
      "Swapped 4  and  -5\n",
      "i 5 th pass: [-3, 0, 1, 2, -5, 4, 6, 7, 9, 15]\n",
      "Swapped 2  and  -5\n",
      "i 4 th pass: [-3, 0, 1, -5, 2, 4, 6, 7, 9, 15]\n",
      "Swapped 1  and  -5\n",
      "i 3 th pass: [-3, 0, -5, 1, 2, 4, 6, 7, 9, 15]\n",
      "Swapped 0  and  -5\n",
      "i 2 th pass: [-3, -5, 0, 1, 2, 4, 6, 7, 9, 15]\n",
      "Swapped -3  and  -5\n",
      "i 1 th pass: [-5, -3, 0, 1, 2, 4, 6, 7, 9, 15]\n",
      "i 0 th pass: [-5, -3, 0, 1, 2, 4, 6, 7, 9, 15]\n"
     ]
    },
    {
     "data": {
      "text/plain": [
       "[-5, -3, 0, 1, 2, 4, 6, 7, 9, 15]"
      ]
     },
     "execution_count": 14,
     "metadata": {},
     "output_type": "execute_result"
    }
   ],
   "source": [
    "def bubble_sort(x):\n",
    "    print(\"length of x\",len(x), x)\n",
    "    for i in range(len(x)-1, -1 , -1):\n",
    "        for j in range(i):\n",
    "            if x[j] > x[j+1]:\n",
    "                x[j], x[j+1] = x[j+1], x[j]\n",
    "                print(\"Swapped\", x[j+1], \" and \", x[j])\n",
    "        print(\"i\",i,\"th pass:\",x)\n",
    "    return x\n",
    "    \n",
    "bubble_sort(test_x.copy())"
   ]
  },
  {
   "cell_type": "code",
   "execution_count": 17,
   "metadata": {
    "collapsed": false
   },
   "outputs": [
    {
     "name": "stdout",
     "output_type": "stream",
     "text": [
      "[15, 6, 1, 7, -3, 9, 0, 2, 4, -5]\n",
      "[15, 6, 1, 7, -3]\n",
      "[15, 6]\n",
      "[15]\n",
      "[6]\n",
      "Merged : [6, 15]\n",
      "[1, 7, -3]\n",
      "[1]\n",
      "[7, -3]\n",
      "[7]\n",
      "[-3]\n",
      "Merged : [-3, 7]\n",
      "Merged : [-3, 1, 7]\n",
      "Merged : [-3, 1, 6, 7, 15]\n",
      "[9, 0, 2, 4, -5]\n",
      "[9, 0]\n",
      "[9]\n",
      "[0]\n",
      "Merged : [0, 9]\n",
      "[2, 4, -5]\n",
      "[2]\n",
      "[4, -5]\n",
      "[4]\n",
      "[-5]\n",
      "Merged : [-5, 4]\n",
      "Merged : [-5, 2, 4]\n",
      "Merged : [-5, 0, 2, 4, 9]\n",
      "Merged : [-5, -3, 0, 1, 2, 4, 6, 7, 9, 15]\n"
     ]
    },
    {
     "data": {
      "text/plain": [
       "[-5, -3, 0, 1, 2, 4, 6, 7, 9, 15]"
      ]
     },
     "execution_count": 17,
     "metadata": {},
     "output_type": "execute_result"
    }
   ],
   "source": [
    "def merge_sort(x):\n",
    "    print(x)\n",
    "    if len(x) > 1 :\n",
    "        midpoint = len(x)//2\n",
    "        left_x = merge_sort(x[:midpoint])\n",
    "        right_x = merge_sort(x[midpoint:])\n",
    "        \n",
    "        #Merge\n",
    "        i = 0 #left_x current index\n",
    "        j = 0 # right_x current index\n",
    "        k = 0 # index of merging parent array, x\n",
    "        \n",
    "        while i < len(left_x) and j < len(right_x):\n",
    "            if left_x[i] < right_x[j]:\n",
    "                x[k] = left_x[i]\n",
    "                i+=1\n",
    "            else:\n",
    "                x[k] = right_x[j]\n",
    "                j+=1\n",
    "            k+=1\n",
    "        \n",
    "        #Handle leftovers\n",
    "        while i < len(left_x):\n",
    "            x[k] = left_x[i]\n",
    "            i+=1\n",
    "            k+=1\n",
    "        while j < len(right_x):\n",
    "            x[k] = right_x[j]\n",
    "            j+=1\n",
    "            k+=1\n",
    "        print(\"Merged :\",x)\n",
    "        \n",
    "    return x\n",
    "\n",
    "merge_sort(test_x.copy())"
   ]
  }
 ],
 "metadata": {
  "kernelspec": {
   "display_name": "Python [conda env:dlnd-tf-lab]",
   "language": "python",
   "name": "conda-env-dlnd-tf-lab-py"
  },
  "language_info": {
   "codemirror_mode": {
    "name": "ipython",
    "version": 3
   },
   "file_extension": ".py",
   "mimetype": "text/x-python",
   "name": "python",
   "nbconvert_exporter": "python",
   "pygments_lexer": "ipython3",
   "version": "3.5.2"
  }
 },
 "nbformat": 4,
 "nbformat_minor": 2
}
