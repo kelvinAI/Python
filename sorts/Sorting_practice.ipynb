{
 "cells": [
  {
   "cell_type": "code",
   "execution_count": 2,
   "metadata": {
    "collapsed": true
   },
   "outputs": [],
   "source": [
    "from IPython.core.interactiveshell import InteractiveShell\n",
    "InteractiveShell.ast_node_interactivity = 'all'"
   ]
  },
  {
   "cell_type": "code",
   "execution_count": 77,
   "metadata": {
    "collapsed": true
   },
   "outputs": [],
   "source": [
    "test_x = [15, 6, 1, 7, -3 , 9,  0 , 2,  4, -5 ]\n",
    "simple_x = [9, 4 ,2 , 0,- 5]"
   ]
  },
  {
   "cell_type": "code",
   "execution_count": 14,
   "metadata": {
    "collapsed": false,
    "scrolled": true
   },
   "outputs": [
    {
     "name": "stdout",
     "output_type": "stream",
     "text": [
      "length of x 10 [15, 6, 1, 7, -3, 9, 0, 2, 4, -5]\n",
      "Swapped 15  and  6\n",
      "Swapped 15  and  1\n",
      "Swapped 15  and  7\n",
      "Swapped 15  and  -3\n",
      "Swapped 15  and  9\n",
      "Swapped 15  and  0\n",
      "Swapped 15  and  2\n",
      "Swapped 15  and  4\n",
      "Swapped 15  and  -5\n",
      "i 9 th pass: [6, 1, 7, -3, 9, 0, 2, 4, -5, 15]\n",
      "Swapped 6  and  1\n",
      "Swapped 7  and  -3\n",
      "Swapped 9  and  0\n",
      "Swapped 9  and  2\n",
      "Swapped 9  and  4\n",
      "Swapped 9  and  -5\n",
      "i 8 th pass: [1, 6, -3, 7, 0, 2, 4, -5, 9, 15]\n",
      "Swapped 6  and  -3\n",
      "Swapped 7  and  0\n",
      "Swapped 7  and  2\n",
      "Swapped 7  and  4\n",
      "Swapped 7  and  -5\n",
      "i 7 th pass: [1, -3, 6, 0, 2, 4, -5, 7, 9, 15]\n",
      "Swapped 1  and  -3\n",
      "Swapped 6  and  0\n",
      "Swapped 6  and  2\n",
      "Swapped 6  and  4\n",
      "Swapped 6  and  -5\n",
      "i 6 th pass: [-3, 1, 0, 2, 4, -5, 6, 7, 9, 15]\n",
      "Swapped 1  and  0\n",
      "Swapped 4  and  -5\n",
      "i 5 th pass: [-3, 0, 1, 2, -5, 4, 6, 7, 9, 15]\n",
      "Swapped 2  and  -5\n",
      "i 4 th pass: [-3, 0, 1, -5, 2, 4, 6, 7, 9, 15]\n",
      "Swapped 1  and  -5\n",
      "i 3 th pass: [-3, 0, -5, 1, 2, 4, 6, 7, 9, 15]\n",
      "Swapped 0  and  -5\n",
      "i 2 th pass: [-3, -5, 0, 1, 2, 4, 6, 7, 9, 15]\n",
      "Swapped -3  and  -5\n",
      "i 1 th pass: [-5, -3, 0, 1, 2, 4, 6, 7, 9, 15]\n",
      "i 0 th pass: [-5, -3, 0, 1, 2, 4, 6, 7, 9, 15]\n"
     ]
    },
    {
     "data": {
      "text/plain": [
       "[-5, -3, 0, 1, 2, 4, 6, 7, 9, 15]"
      ]
     },
     "execution_count": 14,
     "metadata": {},
     "output_type": "execute_result"
    }
   ],
   "source": [
    "def bubble_sort(x):\n",
    "    print(\"length of x\",len(x), x)\n",
    "    for i in range(len(x)-1, -1 , -1):\n",
    "        for j in range(i):\n",
    "            if x[j] > x[j+1]:\n",
    "                x[j], x[j+1] = x[j+1], x[j]\n",
    "                print(\"Swapped\", x[j+1], \" and \", x[j])\n",
    "        print(\"i\",i,\"th pass:\",x)\n",
    "    return x\n",
    "    \n",
    "bubble_sort(test_x.copy())"
   ]
  },
  {
   "cell_type": "code",
   "execution_count": 17,
   "metadata": {
    "collapsed": true
   },
   "outputs": [
    {
     "name": "stdout",
     "output_type": "stream",
     "text": [
      "[15, 6, 1, 7, -3, 9, 0, 2, 4, -5]\n",
      "[15, 6, 1, 7, -3]\n",
      "[15, 6]\n",
      "[15]\n",
      "[6]\n",
      "Merged : [6, 15]\n",
      "[1, 7, -3]\n",
      "[1]\n",
      "[7, -3]\n",
      "[7]\n",
      "[-3]\n",
      "Merged : [-3, 7]\n",
      "Merged : [-3, 1, 7]\n",
      "Merged : [-3, 1, 6, 7, 15]\n",
      "[9, 0, 2, 4, -5]\n",
      "[9, 0]\n",
      "[9]\n",
      "[0]\n",
      "Merged : [0, 9]\n",
      "[2, 4, -5]\n",
      "[2]\n",
      "[4, -5]\n",
      "[4]\n",
      "[-5]\n",
      "Merged : [-5, 4]\n",
      "Merged : [-5, 2, 4]\n",
      "Merged : [-5, 0, 2, 4, 9]\n",
      "Merged : [-5, -3, 0, 1, 2, 4, 6, 7, 9, 15]\n"
     ]
    },
    {
     "data": {
      "text/plain": [
       "[-5, -3, 0, 1, 2, 4, 6, 7, 9, 15]"
      ]
     },
     "execution_count": 17,
     "metadata": {},
     "output_type": "execute_result"
    }
   ],
   "source": [
    "def merge_sort(x):\n",
    "    print(x)\n",
    "    if len(x) > 1 :\n",
    "        midpoint = len(x)//2\n",
    "        left_x = merge_sort(x[:midpoint])\n",
    "        right_x = merge_sort(x[midpoint:])\n",
    "        \n",
    "        #Merge\n",
    "        i = 0 #left_x current index\n",
    "        j = 0 # right_x current index\n",
    "        k = 0 # index of merging parent array, x\n",
    "        \n",
    "        while i < len(left_x) and j < len(right_x):\n",
    "            if left_x[i] < right_x[j]:\n",
    "                x[k] = left_x[i]\n",
    "                i+=1\n",
    "            else:\n",
    "                x[k] = right_x[j]\n",
    "                j+=1\n",
    "            k+=1\n",
    "        \n",
    "        #Handle leftovers\n",
    "        while i < len(left_x):\n",
    "            x[k] = left_x[i]\n",
    "            i+=1\n",
    "            k+=1\n",
    "        while j < len(right_x):\n",
    "            x[k] = right_x[j]\n",
    "            j+=1\n",
    "            k+=1\n",
    "        print(\"Merged :\",x)\n",
    "        \n",
    "    return x\n",
    "\n",
    "merge_sort(test_x.copy())"
   ]
  },
  {
   "cell_type": "code",
   "execution_count": 49,
   "metadata": {
    "collapsed": false,
    "scrolled": true
   },
   "outputs": [
    {
     "name": "stdout",
     "output_type": "stream",
     "text": [
      "Input: [15, 6, 1, 7, -3, 9, 0, 2, 4, -5]\n",
      "Pivot: 15\n",
      "lesser: [6, 1, 7, -3, 9, 0, 2, 4, -5]\n",
      "greater: []\n",
      "Merging  [6, 1, 7, -3, 9, 0, 2, 4, -5]  + [ 15 ] +  []\n",
      "Input: [6, 1, 7, -3, 9, 0, 2, 4, -5]\n",
      "Pivot: 6\n",
      "lesser: [1, -3, 0, 2, 4, -5]\n",
      "greater: [7, 9]\n",
      "Merging  [1, -3, 0, 2, 4, -5]  + [ 6 ] +  [7, 9]\n",
      "Input: [1, -3, 0, 2, 4, -5]\n",
      "Pivot: 1\n",
      "lesser: [-3, 0, -5]\n",
      "greater: [2, 4]\n",
      "Merging  [-3, 0, -5]  + [ 1 ] +  [2, 4]\n",
      "Input: [-3, 0, -5]\n",
      "Pivot: -3\n",
      "lesser: [-5]\n",
      "greater: [0]\n",
      "Merging  [-5]  + [ -3 ] +  [0]\n",
      "Input: [-5]\n",
      "Input: [0]\n",
      "Input: [2, 4]\n",
      "Pivot: 2\n",
      "lesser: []\n",
      "greater: [4]\n",
      "Merging  []  + [ 2 ] +  [4]\n",
      "Input: []\n",
      "Input: [4]\n",
      "Input: [7, 9]\n",
      "Pivot: 7\n",
      "lesser: []\n",
      "greater: [9]\n",
      "Merging  []  + [ 7 ] +  [9]\n",
      "Input: []\n",
      "Input: [9]\n",
      "Input: []\n"
     ]
    },
    {
     "data": {
      "text/plain": [
       "[-5, -3, 0, 1, 2, 4, 6, 7, 9, 15]"
      ]
     },
     "execution_count": 49,
     "metadata": {},
     "output_type": "execute_result"
    }
   ],
   "source": [
    "def quicksort(x):\n",
    "    print(\"Input:\",x)\n",
    "    if len(x) <= 1:\n",
    "        return x\n",
    "    else:\n",
    "        \n",
    "        pivot = x[0]\n",
    "        print(\"Pivot:\", pivot)\n",
    "        lesser = [i for i in x[1:] if i <= pivot]\n",
    "        print(\"lesser:\",lesser)\n",
    "        greater = [i for i in x[1:] if i > pivot ]\n",
    "        print(\"greater:\",greater)\n",
    "        \n",
    "    \n",
    "    print(\"Merging \", lesser, \" + [\", pivot , \"] + \", greater)\n",
    "    return quicksort(lesser) + [pivot] + quicksort(greater)\n",
    "\n",
    "quicksort(test_x.copy())\n",
    "    "
   ]
  },
  {
   "cell_type": "code",
   "execution_count": 79,
   "metadata": {
    "collapsed": false
   },
   "outputs": [
    {
     "name": "stdout",
     "output_type": "stream",
     "text": [
      "[9, 4, 2, 0, -5]\n",
      "in partition lowIndex:0, highIndex:4\n",
      "divider first idx:0 pivot idx:4, value:-5\n",
      "Swapping pivot x[4] (-5) with divider x[0] (9)\n",
      "Swapped pivot with divider: [-5, 4, 2, 0, 9]\n",
      "x After partitioning [-5, 4, 2, 0, 9]\n",
      "in partition lowIndex:1, highIndex:4\n",
      "divider first idx:1 pivot idx:4, value:9\n",
      "x[1] (4) is lesser than x[pivot] (9), swapping with divider\n",
      "Swapped x: [-5, 4, 2, 0, 9]\n",
      "x[2] (2) is lesser than x[pivot] (9), swapping with divider\n",
      "Swapped x: [-5, 4, 2, 0, 9]\n",
      "x[3] (0) is lesser than x[pivot] (9), swapping with divider\n",
      "Swapped x: [-5, 4, 2, 0, 9]\n",
      "Swapping pivot x[4] (9) with divider x[4] (9)\n",
      "Swapped pivot with divider: [-5, 4, 2, 0, 9]\n",
      "x After partitioning [-5, 4, 2, 0, 9]\n",
      "in partition lowIndex:1, highIndex:3\n",
      "divider first idx:1 pivot idx:3, value:0\n",
      "Swapping pivot x[3] (0) with divider x[1] (4)\n",
      "Swapped pivot with divider: [-5, 0, 2, 4, 9]\n",
      "x After partitioning [-5, 0, 2, 4, 9]\n",
      "in partition lowIndex:2, highIndex:3\n",
      "divider first idx:2 pivot idx:3, value:4\n",
      "x[2] (2) is lesser than x[pivot] (4), swapping with divider\n",
      "Swapped x: [-5, 0, 2, 4, 9]\n",
      "Swapping pivot x[3] (4) with divider x[3] (4)\n",
      "Swapped pivot with divider: [-5, 0, 2, 4, 9]\n",
      "x After partitioning [-5, 0, 2, 4, 9]\n"
     ]
    },
    {
     "data": {
      "text/plain": [
       "[-5, 0, 2, 4, 9]"
      ]
     },
     "execution_count": 79,
     "metadata": {},
     "output_type": "execute_result"
    }
   ],
   "source": [
    "def quicksort(x):\n",
    "    print(x)\n",
    "    def quick_sort(x, lowIndex, highIndex):\n",
    "        if( highIndex - lowIndex > 0):\n",
    "            p = partition(x, lowIndex, highIndex)\n",
    "            print(\"x After partitioning\", x)\n",
    "            quick_sort(x,lowIndex, p-1)\n",
    "            quick_sort(x,p+1,highIndex)\n",
    "            \n",
    "    def partition(x, lowIndex, highIndex):\n",
    "        \n",
    "        divider = lowIndex\n",
    "        pivot = highIndex\n",
    "        print(\"in partition lowIndex:{}, highIndex:{}\".format(lowIndex,highIndex))\n",
    "        print(\"divider first idx:{} pivot idx:{}, value:{}\".format(divider, pivot, x[pivot]))\n",
    "        for i in range(lowIndex,highIndex):\n",
    "            if x[i] < x[pivot]:\n",
    "                print(\"x[{}] ({}) is lesser than x[pivot] ({}), swapping with divider\".format(i,x[i],x[pivot]))\n",
    "                x[i] , x[divider] = x[divider], x[i]\n",
    "                divider += 1\n",
    "                print(\"Swapped x:\",x)\n",
    "        print(\"Swapping pivot x[{}] ({}) with divider x[{}] ({})\".format(pivot,x[pivot], divider, x[divider]))\n",
    "        x[pivot], x[divider] = x[divider], x[pivot]\n",
    "        print(\"Swapped pivot with divider:\", x)\n",
    "        return divider\n",
    "        \n",
    "    quick_sort(x, 0, len(x) -1)\n",
    "    return x\n",
    "            \n",
    "            \n",
    "\n",
    "quicksort(simple_x.copy())"
   ]
  }
 ],
 "metadata": {
  "kernelspec": {
   "display_name": "Python [conda env:dlnd-tf-lab]",
   "language": "python",
   "name": "conda-env-dlnd-tf-lab-py"
  },
  "language_info": {
   "codemirror_mode": {
    "name": "ipython",
    "version": 3
   },
   "file_extension": ".py",
   "mimetype": "text/x-python",
   "name": "python",
   "nbconvert_exporter": "python",
   "pygments_lexer": "ipython3",
   "version": "3.5.2"
  }
 },
 "nbformat": 4,
 "nbformat_minor": 2
}
