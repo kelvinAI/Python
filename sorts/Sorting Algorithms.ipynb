{
 "cells": [
  {
   "cell_type": "code",
   "execution_count": 1,
   "metadata": {
    "collapsed": true
   },
   "outputs": [],
   "source": [
    "from IPython.core.interactiveshell import InteractiveShell\n",
    "InteractiveShell.ast_node_interactivity = 'all'"
   ]
  },
  {
   "cell_type": "code",
   "execution_count": 38,
   "metadata": {
    "collapsed": true
   },
   "outputs": [],
   "source": [
    "test_x = [9 , 4, 5 ,1 ,3, 8, 6, 7, 4, 0, 5, -4 , -6]"
   ]
  },
  {
   "cell_type": "code",
   "execution_count": 40,
   "metadata": {
    "collapsed": false
   },
   "outputs": [
    {
     "name": "stdout",
     "output_type": "stream",
     "text": [
      "13\n",
      "i 12\n",
      "j 0 i 12\n",
      "j 1 i 12\n",
      "j 2 i 12\n",
      "j 3 i 12\n",
      "j 4 i 12\n",
      "j 5 i 12\n",
      "j 6 i 12\n",
      "j 7 i 12\n",
      "j 8 i 12\n",
      "j 9 i 12\n",
      "j 10 i 12\n",
      "j 11 i 12\n",
      "12 th pass : [4, 5, 1, 3, 8, 6, 7, 4, 0, 5, -4, -6, 9]\n",
      "i 11\n",
      "j 0 i 11\n",
      "j 1 i 11\n",
      "j 2 i 11\n",
      "j 3 i 11\n",
      "j 4 i 11\n",
      "j 5 i 11\n",
      "j 6 i 11\n",
      "j 7 i 11\n",
      "j 8 i 11\n",
      "j 9 i 11\n",
      "j 10 i 11\n",
      "11 th pass : [4, 1, 3, 5, 6, 7, 4, 0, 5, -4, -6, 8, 9]\n",
      "i 10\n",
      "j 0 i 10\n",
      "j 1 i 10\n",
      "j 2 i 10\n",
      "j 3 i 10\n",
      "j 4 i 10\n",
      "j 5 i 10\n",
      "j 6 i 10\n",
      "j 7 i 10\n",
      "j 8 i 10\n",
      "j 9 i 10\n",
      "10 th pass : [1, 3, 4, 5, 6, 4, 0, 5, -4, -6, 7, 8, 9]\n",
      "i 9\n",
      "j 0 i 9\n",
      "j 1 i 9\n",
      "j 2 i 9\n",
      "j 3 i 9\n",
      "j 4 i 9\n",
      "j 5 i 9\n",
      "j 6 i 9\n",
      "j 7 i 9\n",
      "j 8 i 9\n",
      "9 th pass : [1, 3, 4, 5, 4, 0, 5, -4, -6, 6, 7, 8, 9]\n",
      "i 8\n",
      "j 0 i 8\n",
      "j 1 i 8\n",
      "j 2 i 8\n",
      "j 3 i 8\n",
      "j 4 i 8\n",
      "j 5 i 8\n",
      "j 6 i 8\n",
      "j 7 i 8\n",
      "8 th pass : [1, 3, 4, 4, 0, 5, -4, -6, 5, 6, 7, 8, 9]\n",
      "i 7\n",
      "j 0 i 7\n",
      "j 1 i 7\n",
      "j 2 i 7\n",
      "j 3 i 7\n",
      "j 4 i 7\n",
      "j 5 i 7\n",
      "j 6 i 7\n",
      "7 th pass : [1, 3, 4, 0, 4, -4, -6, 5, 5, 6, 7, 8, 9]\n",
      "i 6\n",
      "j 0 i 6\n",
      "j 1 i 6\n",
      "j 2 i 6\n",
      "j 3 i 6\n",
      "j 4 i 6\n",
      "j 5 i 6\n",
      "6 th pass : [1, 3, 0, 4, -4, -6, 4, 5, 5, 6, 7, 8, 9]\n",
      "i 5\n",
      "j 0 i 5\n",
      "j 1 i 5\n",
      "j 2 i 5\n",
      "j 3 i 5\n",
      "j 4 i 5\n",
      "5 th pass : [1, 0, 3, -4, -6, 4, 4, 5, 5, 6, 7, 8, 9]\n",
      "i 4\n",
      "j 0 i 4\n",
      "j 1 i 4\n",
      "j 2 i 4\n",
      "j 3 i 4\n",
      "4 th pass : [0, 1, -4, -6, 3, 4, 4, 5, 5, 6, 7, 8, 9]\n",
      "i 3\n",
      "j 0 i 3\n",
      "j 1 i 3\n",
      "j 2 i 3\n",
      "3 th pass : [0, -4, -6, 1, 3, 4, 4, 5, 5, 6, 7, 8, 9]\n",
      "i 2\n",
      "j 0 i 2\n",
      "j 1 i 2\n",
      "2 th pass : [-4, -6, 0, 1, 3, 4, 4, 5, 5, 6, 7, 8, 9]\n",
      "i 1\n",
      "j 0 i 1\n",
      "1 th pass : [-6, -4, 0, 1, 3, 4, 4, 5, 5, 6, 7, 8, 9]\n",
      "i 0\n",
      "0 th pass : [-6, -4, 0, 1, 3, 4, 4, 5, 5, 6, 7, 8, 9]\n"
     ]
    },
    {
     "data": {
      "text/plain": [
       "[-6, -4, 0, 1, 3, 4, 4, 5, 5, 6, 7, 8, 9]"
      ]
     },
     "execution_count": 40,
     "metadata": {},
     "output_type": "execute_result"
    }
   ],
   "source": [
    "# Implementation #1, bubble up each index\n",
    "def bubble_sort(x):\n",
    "    print(len(x))\n",
    "    for i in range(len(x)-1,-1,-1):\n",
    "        print(\"i\",i)\n",
    "        for j in range(i):\n",
    "            print(\"j\",j,\"i\",i)\n",
    "            if x[j] > x[j+1]:\n",
    "#                 temp = x[j+1]\n",
    "#                 x[j+1], x[j] = x[j], x[j+1]\n",
    "                x[j], x[j+1] = x[j+1], x[j]\n",
    "#                 x[j] = temp\n",
    "        print(i,\"th pass :\", x)\n",
    "            \n",
    "            \n",
    "    return x\n",
    "    \n",
    "\n",
    "# test_x = [8,3,-1,0]\n",
    "bubble_sort(test_x.copy())\n"
   ]
  },
  {
   "cell_type": "code",
   "execution_count": 24,
   "metadata": {
    "collapsed": true
   },
   "outputs": [
    {
     "data": {
      "text/plain": [
       "13"
      ]
     },
     "execution_count": 24,
     "metadata": {},
     "output_type": "execute_result"
    },
    {
     "name": "stdout",
     "output_type": "stream",
     "text": [
      "[-6, -4, 0, 1, 3, 4, 4, 5, 5, 6, 7, 8, 9]\n",
      "i:seq[12]:9 , j:seq[0]:-6\n",
      "i:seq[12]:9 , j:seq[1]:-4\n",
      "i:seq[12]:9 , j:seq[2]:0\n",
      "i:seq[12]:9 , j:seq[3]:1\n",
      "i:seq[12]:9 , j:seq[4]:3\n",
      "i:seq[12]:9 , j:seq[5]:4\n",
      "i:seq[12]:9 , j:seq[6]:4\n",
      "i:seq[12]:9 , j:seq[7]:5\n",
      "i:seq[12]:9 , j:seq[8]:5\n",
      "i:seq[12]:9 , j:seq[9]:6\n",
      "i:seq[12]:9 , j:seq[10]:7\n",
      "i:seq[12]:9 , j:seq[11]:8\n",
      "i:seq[11]:8 , j:seq[0]:-6\n",
      "i:seq[11]:8 , j:seq[1]:-4\n",
      "i:seq[11]:8 , j:seq[2]:0\n",
      "i:seq[11]:8 , j:seq[3]:1\n",
      "i:seq[11]:8 , j:seq[4]:3\n",
      "i:seq[11]:8 , j:seq[5]:4\n",
      "i:seq[11]:8 , j:seq[6]:4\n",
      "i:seq[11]:8 , j:seq[7]:5\n",
      "i:seq[11]:8 , j:seq[8]:5\n",
      "i:seq[11]:8 , j:seq[9]:6\n",
      "i:seq[11]:8 , j:seq[10]:7\n",
      "i:seq[10]:7 , j:seq[0]:-6\n",
      "i:seq[10]:7 , j:seq[1]:-4\n",
      "i:seq[10]:7 , j:seq[2]:0\n",
      "i:seq[10]:7 , j:seq[3]:1\n",
      "i:seq[10]:7 , j:seq[4]:3\n",
      "i:seq[10]:7 , j:seq[5]:4\n",
      "i:seq[10]:7 , j:seq[6]:4\n",
      "i:seq[10]:7 , j:seq[7]:5\n",
      "i:seq[10]:7 , j:seq[8]:5\n",
      "i:seq[10]:7 , j:seq[9]:6\n",
      "i:seq[9]:6 , j:seq[0]:-6\n",
      "i:seq[9]:6 , j:seq[1]:-4\n",
      "i:seq[9]:6 , j:seq[2]:0\n",
      "i:seq[9]:6 , j:seq[3]:1\n",
      "i:seq[9]:6 , j:seq[4]:3\n",
      "i:seq[9]:6 , j:seq[5]:4\n",
      "i:seq[9]:6 , j:seq[6]:4\n",
      "i:seq[9]:6 , j:seq[7]:5\n",
      "i:seq[9]:6 , j:seq[8]:5\n",
      "i:seq[8]:5 , j:seq[0]:-6\n",
      "i:seq[8]:5 , j:seq[1]:-4\n",
      "i:seq[8]:5 , j:seq[2]:0\n",
      "i:seq[8]:5 , j:seq[3]:1\n",
      "i:seq[8]:5 , j:seq[4]:3\n",
      "i:seq[8]:5 , j:seq[5]:4\n",
      "i:seq[8]:5 , j:seq[6]:4\n",
      "i:seq[8]:5 , j:seq[7]:5\n",
      "i:seq[7]:5 , j:seq[0]:-6\n",
      "i:seq[7]:5 , j:seq[1]:-4\n",
      "i:seq[7]:5 , j:seq[2]:0\n",
      "i:seq[7]:5 , j:seq[3]:1\n",
      "i:seq[7]:5 , j:seq[4]:3\n",
      "i:seq[7]:5 , j:seq[5]:4\n",
      "i:seq[7]:5 , j:seq[6]:4\n",
      "i:seq[6]:4 , j:seq[0]:-6\n",
      "i:seq[6]:4 , j:seq[1]:-4\n",
      "i:seq[6]:4 , j:seq[2]:0\n",
      "i:seq[6]:4 , j:seq[3]:1\n",
      "i:seq[6]:4 , j:seq[4]:3\n",
      "i:seq[6]:4 , j:seq[5]:4\n",
      "i:seq[5]:4 , j:seq[0]:-6\n",
      "i:seq[5]:4 , j:seq[1]:-4\n",
      "i:seq[5]:4 , j:seq[2]:0\n",
      "i:seq[5]:4 , j:seq[3]:1\n",
      "i:seq[5]:4 , j:seq[4]:3\n",
      "i:seq[4]:3 , j:seq[0]:-6\n",
      "i:seq[4]:3 , j:seq[1]:-4\n",
      "i:seq[4]:3 , j:seq[2]:0\n",
      "i:seq[4]:3 , j:seq[3]:1\n",
      "i:seq[3]:1 , j:seq[0]:-6\n",
      "i:seq[3]:1 , j:seq[1]:-4\n",
      "i:seq[3]:1 , j:seq[2]:0\n",
      "i:seq[2]:0 , j:seq[0]:-6\n",
      "i:seq[2]:0 , j:seq[1]:-4\n",
      "i:seq[1]:-4 , j:seq[0]:-6\n"
     ]
    },
    {
     "data": {
      "text/plain": [
       "[-6, -4, 0, 1, 3, 4, 4, 5, 5, 6, 7, 8, 9]"
      ]
     },
     "execution_count": 24,
     "metadata": {},
     "output_type": "execute_result"
    }
   ],
   "source": [
    "# Implementation 2 : compare with last index directly\n",
    "def bubble_sort(seq):\n",
    "    print(seq)\n",
    "    for i in range( len(seq)-1, -1 , -1):\n",
    "#         print(i)\n",
    "        for j in range(i):\n",
    "#             print(i,j)\n",
    "            print(\"i:seq[{}]:{} , j:seq[{}]:{}\".format(i,seq[i],j,seq[j]))\n",
    "            if seq[j] > seq[i]:\n",
    "                print(\"{} in index {} swapping with {} in idx {}\".format(seq[i], i, seq[j], j))\n",
    "                temp = seq[i]\n",
    "                seq[i] = seq[j]\n",
    "                seq[j] = temp\n",
    "                print(\"Swapped Array:\",seq)\n",
    "            else:\n",
    "#                 print(\"seq[{}]:{} larger than seq[{}]:{}, no swap\".format(i,seq[i],j,seq[j]))\n",
    "                pass\n",
    "    return seq\n",
    "            \n",
    "            \n",
    "            \n",
    "simple_test = [ 3, -1, 9,  0 ]\n",
    "len(test_arr)\n",
    "bubble_sort(test_arr.copy())"
   ]
  },
  {
   "cell_type": "markdown",
   "metadata": {},
   "source": [
    "## Merge Sort"
   ]
  },
  {
   "cell_type": "code",
   "execution_count": 41,
   "metadata": {
    "collapsed": false
   },
   "outputs": [
    {
     "name": "stdout",
     "output_type": "stream",
     "text": [
      "Input arr: [9, 4, 5, 1, 3, 8, 6, 7, 4, 0, 5, -4, -6]\n",
      "Input arr: [9, 4, 5, 1, 3, 8]\n",
      "Input arr: [9, 4, 5]\n",
      "Input arr: [9]\n",
      "Input arr: [4, 5]\n",
      "Input arr: [4]\n",
      "Input arr: [5]\n",
      "Input arr: [1, 3, 8]\n",
      "Input arr: [1]\n",
      "Input arr: [3, 8]\n",
      "Input arr: [3]\n",
      "Input arr: [8]\n",
      "Input arr: [6, 7, 4, 0, 5, -4, -6]\n",
      "Input arr: [6, 7, 4]\n",
      "Input arr: [6]\n",
      "Input arr: [7, 4]\n",
      "Input arr: [7]\n",
      "Input arr: [4]\n",
      "Input arr: [0, 5, -4, -6]\n",
      "Input arr: [0, 5]\n",
      "Input arr: [0]\n",
      "Input arr: [5]\n",
      "Input arr: [-4, -6]\n",
      "Input arr: [-4]\n",
      "Input arr: [-6]\n"
     ]
    },
    {
     "data": {
      "text/plain": [
       "[-6, -4, 0, 1, 3, 4, 4, 5, 5, 6, 7, 8, 9]"
      ]
     },
     "execution_count": 41,
     "metadata": {},
     "output_type": "execute_result"
    }
   ],
   "source": [
    "\n",
    "def merge_sort(arr):\n",
    "#     arr = x.copy()\n",
    "    print(\"Input arr:\",arr)\n",
    "    \n",
    "    if len(arr) > 1:\n",
    "        midpoint = len(arr) // 2\n",
    "        left_half = merge_sort(arr[:midpoint])\n",
    "        right_half = merge_sort(arr[midpoint:])\n",
    "        \n",
    "        #Merge\n",
    "        i = 0\n",
    "        j = 0\n",
    "        k = 0\n",
    "        \n",
    "        while i < len(left_half) and j < len(right_half):\n",
    "            if left_half[i] < right_half[j]:\n",
    "                arr[k] = left_half[i]\n",
    "                i+=1\n",
    "            else:\n",
    "                arr[k] = right_half[j]\n",
    "                j+=1\n",
    "            k+=1\n",
    "        #leftover \n",
    "        while i < len(left_half):\n",
    "            arr[k] = left_half[i]\n",
    "            i +=1\n",
    "            k+=1\n",
    "        while j < len(right_half):\n",
    "            arr[k] = right_half[j]\n",
    "            j+=1\n",
    "            k+=1\n",
    "                \n",
    "            \n",
    "        \n",
    "    return arr\n",
    "        \n",
    "        \n",
    "    \n",
    "simple_x = [9,1,8]\n",
    "merge_sort(test_x.copy())\n",
    "\n"
   ]
  },
  {
   "cell_type": "code",
   "execution_count": 56,
   "metadata": {
    "collapsed": false
   },
   "outputs": [
    {
     "name": "stdout",
     "output_type": "stream",
     "text": [
      "[9, 4, 5, 1, 3, 8, 6, 7, 4, 0, 5, -4, -6]\n"
     ]
    },
    {
     "data": {
      "text/plain": [
       "[-6, -4, 0, 1, 3, 4, 4, 5, 5, 6, 7, 8, 9]"
      ]
     },
     "execution_count": 56,
     "metadata": {},
     "output_type": "execute_result"
    }
   ],
   "source": [
    "## Quicksort\n",
    "\n",
    "def quick_sort(arr):\n",
    "    print(arr)\n",
    "    \n",
    "    def quickSort(arr, lowIndex, highIndex):\n",
    "        if highIndex - lowIndex >= 1:\n",
    "            p = partition(arr, lowIndex, highIndex) # obtained partition index (divider index) is already in its final place\n",
    "            quickSort(arr,lowIndex,p-1) # Recursive quickSort into portion of the array before and after the partition\n",
    "            quickSort(arr,p+1,highIndex)\n",
    "    \n",
    "    def partition(arr, lowIndex, highIndex):\n",
    "        divider = lowIndex # initialize divider index\n",
    "        \n",
    "        #Custom algorithim to choose pivot, but move it to the highest Index after selecting the pivot\n",
    "        # Modify pivot position to low or high or random\n",
    "#         pivot_pos = (highIndex + lowIndex ) // 2 #eg. midpoint for pivot\n",
    "        pivot_pos = lowIndex #eg. use lowest position as pivot\n",
    "#         pivot_pos = highIndex # eg. use highest position as pivot\n",
    "        \n",
    "        #Swap pivot position to the highest index\n",
    "        arr[pivot_pos], arr[highIndex] = arr[highIndex], arr[pivot_pos]\n",
    "        pivot = highIndex # use the highest index as the pivot\n",
    "        for i in range(lowIndex, highIndex): #loop through all elements, excluding pivot at the highest index\n",
    "            if arr[i] < arr[pivot]:\n",
    "                #if element is smaller than the pivot, move it to the begining of the list(behind the divider index)\n",
    "                arr[divider] , arr[i] = arr[i] ,arr[divider]\n",
    "                divider+=1 #Increment divider position\n",
    "        #After completing loop, place the pivot at the divider position. this is its final place.\n",
    "        arr[divider], arr[pivot] = arr[pivot], arr[divider]\n",
    "        \n",
    "        #now return the position of the pivot so we can ignore sorting this position on subsequent recursive calls\n",
    "        return divider\n",
    "        \n",
    "\n",
    "    quickSort(arr, 0, len(arr)-1)\n",
    "    return arr\n",
    "\n",
    "quick_sort(test_x.copy())\n"
   ]
  }
 ],
 "metadata": {
  "kernelspec": {
   "display_name": "Python [conda env:dlnd-tf-lab]",
   "language": "python",
   "name": "conda-env-dlnd-tf-lab-py"
  },
  "language_info": {
   "codemirror_mode": {
    "name": "ipython",
    "version": 3
   },
   "file_extension": ".py",
   "mimetype": "text/x-python",
   "name": "python",
   "nbconvert_exporter": "python",
   "pygments_lexer": "ipython3",
   "version": "3.5.2"
  }
 },
 "nbformat": 4,
 "nbformat_minor": 2
}
